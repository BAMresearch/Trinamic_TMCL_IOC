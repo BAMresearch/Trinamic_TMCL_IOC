{
 "cells": [
  {
   "cell_type": "code",
   "execution_count": 1,
   "metadata": {},
   "outputs": [
    {
     "name": "stdout",
     "output_type": "stream",
     "text": [
      "/Users/bpauw/Code/Trinamic_TMCM6214_TMCL_IOC\n"
     ]
    }
   ],
   "source": [
    "cd .."
   ]
  },
  {
   "cell_type": "code",
   "execution_count": 13,
   "metadata": {},
   "outputs": [
    {
     "ename": "ModuleNotFoundError",
     "evalue": "No module named 'numpy'",
     "output_type": "error",
     "traceback": [
      "\u001b[0;31m---------------------------------------------------------------------------\u001b[0m",
      "\u001b[0;31mModuleNotFoundError\u001b[0m                       Traceback (most recent call last)",
      "\u001b[1;32m/Users/bpauw/Code/Trinamic_TMCM6214_TMCL_IOC/tests/example.ipynb Cell 2\u001b[0m line \u001b[0;36m1\n\u001b[1;32m     <a href='vscode-notebook-cell:/Users/bpauw/Code/Trinamic_TMCM6214_TMCL_IOC/tests/example.ipynb#W3sZmlsZQ%3D%3D?line=9'>10</a>\u001b[0m \u001b[39mfrom\u001b[39;00m \u001b[39mpytrinamic\u001b[39;00m\u001b[39m.\u001b[39;00m\u001b[39mmodules\u001b[39;00m \u001b[39mimport\u001b[39;00m TMCM6214\n\u001b[1;32m     <a href='vscode-notebook-cell:/Users/bpauw/Code/Trinamic_TMCM6214_TMCL_IOC/tests/example.ipynb#W3sZmlsZQ%3D%3D?line=10'>11</a>\u001b[0m \u001b[39mfrom\u001b[39;00m \u001b[39msrc\u001b[39;00m\u001b[39m.\u001b[39;00m\u001b[39mmotion_control\u001b[39;00m \u001b[39mimport\u001b[39;00m MotionControl\n\u001b[0;32m---> <a href='vscode-notebook-cell:/Users/bpauw/Code/Trinamic_TMCM6214_TMCL_IOC/tests/example.ipynb#W3sZmlsZQ%3D%3D?line=11'>12</a>\u001b[0m \u001b[39mimport\u001b[39;00m \u001b[39mnumpy\u001b[39;00m \u001b[39mas\u001b[39;00m \u001b[39mnp\u001b[39;00m\n\u001b[1;32m     <a href='vscode-notebook-cell:/Users/bpauw/Code/Trinamic_TMCM6214_TMCL_IOC/tests/example.ipynb#W3sZmlsZQ%3D%3D?line=13'>14</a>\u001b[0m config_file_path\u001b[39m=\u001b[39mPath(\u001b[39m'\u001b[39m\u001b[39mtests/testdata/example_config.yaml\u001b[39m\u001b[39m'\u001b[39m)\n\u001b[1;32m     <a href='vscode-notebook-cell:/Users/bpauw/Code/Trinamic_TMCM6214_TMCL_IOC/tests/example.ipynb#W3sZmlsZQ%3D%3D?line=15'>16</a>\u001b[0m board_params \u001b[39m=\u001b[39m BoardParameters()\n",
      "\u001b[0;31mModuleNotFoundError\u001b[0m: No module named 'numpy'"
     ]
    }
   ],
   "source": [
    "import logging\n",
    "from pathlib import Path\n",
    "import asyncio\n",
    "from src.board_parameters import BoardParameters\n",
    "from src.configuration_management import ConfigurationManagement\n",
    "from src.board_control import BoardControl\n",
    "from src import ureg\n",
    "import pytrinamic\n",
    "from pytrinamic.connections import ConnectionManager\n",
    "from pytrinamic.modules import TMCM6214\n",
    "from src.motion_control import MotionControl\n",
    "\n",
    "config_file_path=Path('tests/testdata/example_config.yaml')\n",
    "\n",
    "board_params = BoardParameters()\n",
    "ConfigurationManagement.load_configuration(config_file_path, board_params)\n",
    "bc0 = BoardControl(board_params)\n",
    "logging.getLogger().setLevel(logging.WARNING)"
   ]
  },
  {
   "cell_type": "code",
   "execution_count": 5,
   "metadata": {},
   "outputs": [
    {
     "data": {
      "text/html": [
       "15.600000000000001 millimeter"
      ],
      "text/latex": [
       "$15.600000000000001\\ \\mathrm{millimeter}$"
      ],
      "text/plain": [
       "15.600000000000001 <Unit('millimeter')>"
      ]
     },
     "execution_count": 5,
     "metadata": {},
     "output_type": "execute_result"
    }
   ],
   "source": [
    "ureg('1.56 cm').to('mm')"
   ]
  },
  {
   "cell_type": "code",
   "execution_count": 3,
   "metadata": {},
   "outputs": [
    {
     "name": "stdout",
     "output_type": "stream",
     "text": [
      "setting board key=84 value=1\n",
      "setting board key=85 value=0\n",
      "setting board key=132 value=0\n",
      "setting axis_index=0 key=4 value=100000\n",
      "setting axis_index=0 key=5 value=100000\n",
      "setting axis_index=0 key=6 value=80\n",
      "setting axis_index=0 key=7 value=0\n",
      "setting axis_index=0 key=14 value=0\n",
      "setting axis_index=0 key=24 value=0\n",
      "setting axis_index=0 key=25 value=0\n",
      "setting axis_index=0 key=140 value=8\n",
      "setting axis_index=0 key=193 value=2\n",
      "setting axis_index=0 key=194 value=80000\n",
      "setting axis_index=0 key=195 value=8000\n",
      "setting axis_index=0 key=4 value=100000\n",
      "setting axis_index=0 key=5 value=100000\n",
      "setting axis_index=0 key=6 value=80\n",
      "setting axis_index=0 key=7 value=0\n",
      "setting axis_index=0 key=14 value=0\n",
      "setting axis_index=0 key=24 value=0\n",
      "setting axis_index=0 key=25 value=0\n",
      "setting axis_index=0 key=140 value=8\n",
      "setting axis_index=0 key=193 value=2\n",
      "setting axis_index=0 key=194 value=80000\n",
      "setting axis_index=0 key=195 value=8000\n",
      "setting axis_index=0 key=4 value=100000\n",
      "setting axis_index=0 key=5 value=100000\n",
      "setting axis_index=0 key=6 value=80\n",
      "setting axis_index=0 key=7 value=0\n",
      "setting axis_index=0 key=14 value=0\n",
      "setting axis_index=0 key=24 value=0\n",
      "setting axis_index=0 key=25 value=0\n",
      "setting axis_index=0 key=140 value=8\n",
      "setting axis_index=0 key=193 value=2\n",
      "setting axis_index=0 key=194 value=80000\n",
      "setting axis_index=0 key=195 value=8000\n",
      "setting axis_index=0 key=4 value=100000\n",
      "setting axis_index=0 key=5 value=100000\n",
      "setting axis_index=0 key=6 value=80\n",
      "setting axis_index=0 key=7 value=0\n",
      "setting axis_index=0 key=14 value=0\n",
      "setting axis_index=0 key=24 value=0\n",
      "setting axis_index=0 key=25 value=0\n",
      "setting axis_index=0 key=140 value=8\n",
      "setting axis_index=0 key=193 value=2\n",
      "setting axis_index=0 key=194 value=80000\n",
      "setting axis_index=0 key=195 value=8000\n",
      "setting axis_index=0 key=4 value=100000\n",
      "setting axis_index=0 key=5 value=100000\n",
      "setting axis_index=0 key=6 value=80\n",
      "setting axis_index=0 key=7 value=0\n",
      "setting axis_index=0 key=14 value=0\n",
      "setting axis_index=0 key=24 value=0\n",
      "setting axis_index=0 key=25 value=0\n",
      "setting axis_index=0 key=140 value=8\n",
      "setting axis_index=0 key=193 value=2\n",
      "setting axis_index=0 key=194 value=80000\n",
      "setting axis_index=0 key=195 value=8000\n",
      "setting axis_index=0 key=4 value=100000\n",
      "setting axis_index=0 key=5 value=100000\n",
      "setting axis_index=0 key=6 value=80\n",
      "setting axis_index=0 key=7 value=0\n",
      "setting axis_index=0 key=14 value=0\n",
      "setting axis_index=0 key=24 value=0\n",
      "setting axis_index=0 key=25 value=0\n",
      "setting axis_index=0 key=140 value=8\n",
      "setting axis_index=0 key=193 value=2\n",
      "setting axis_index=0 key=194 value=80000\n",
      "setting axis_index=0 key=195 value=8000\n"
     ]
    }
   ],
   "source": [
    "bc0.initialize_board()\n",
    "bc0.initialize_axes()"
   ]
  },
  {
   "cell_type": "code",
   "execution_count": 4,
   "metadata": {},
   "outputs": [],
   "source": [
    "bc0.move_axis(0, 20000)"
   ]
  },
  {
   "cell_type": "code",
   "execution_count": 5,
   "metadata": {},
   "outputs": [
    {
     "data": {
      "text/html": [
       "24000.0 step/millimeter"
      ],
      "text/latex": [
       "$24000.0\\ \\frac{\\mathrm{step}}{\\mathrm{millimeter}}$"
      ],
      "text/plain": [
       "24000.0 <Unit('step / millimeter')>"
      ]
     },
     "execution_count": 5,
     "metadata": {},
     "output_type": "execute_result"
    }
   ],
   "source": [
    "bc0.boardpar.axes_parameters[0].steps_to_realworld_conversion_quantity"
   ]
  },
  {
   "cell_type": "code",
   "execution_count": 6,
   "metadata": {},
   "outputs": [],
   "source": [
    "bc0.update_axis_parameters(0)"
   ]
  },
  {
   "cell_type": "code",
   "execution_count": 7,
   "metadata": {},
   "outputs": [
    {
     "name": "stdout",
     "output_type": "stream",
     "text": [
      "--interface socket_serial_tmcl --port 192.168.0.253:4016 --host-id 255 --module-id 1 --timeout 1\n",
      "0\n"
     ]
    }
   ],
   "source": [
    "connection_string = f\"--interface socket_serial_tmcl --port {board_params.ip_address}:{board_params.port_number} --host-id 255 --module-id {board_params.board_module_id} --timeout 1\"\n",
    "print(connection_string)\n",
    "connection_manager = ConnectionManager(connection_string)\n",
    "with connection_manager.connect() as myInterface:\n",
    "    module = TMCM6214(myInterface, module_id=board_params.board_module_id)\n",
    "    motor_0 = module.motors[0]\n",
    "    print(motor_0.get_position_reached())"
   ]
  },
  {
   "cell_type": "code",
   "execution_count": 8,
   "metadata": {},
   "outputs": [
    {
     "name": "stdout",
     "output_type": "stream",
     "text": [
      "80\n",
      "0\n",
      "80000\n"
     ]
    }
   ],
   "source": [
    "with connection_manager.connect() as myInterface:\n",
    "    module = TMCM6214(myInterface, module_id=board_params.board_module_id)\n",
    "    print(module.get_axis_parameter(6, 0))\n",
    "    print(module.get_axis_parameter(7, 0))\n",
    "    print(module.get_axis_parameter(194, 0))\n",
    "    # module.stop(1)\n",
    "    module.set_axis_parameter(6, 0, 74)\n",
    "    # print(module.get_analog_input(2))"
   ]
  },
  {
   "cell_type": "code",
   "execution_count": 14,
   "metadata": {},
   "outputs": [
    {
     "ename": "TypeError",
     "evalue": "no implementation found for 'numpy.isclose' on types that implement __array_function__: [<class 'pint.Quantity'>]",
     "output_type": "error",
     "traceback": [
      "\u001b[0;31m---------------------------------------------------------------------------\u001b[0m",
      "\u001b[0;31mTypeError\u001b[0m                                 Traceback (most recent call last)",
      "\u001b[1;32m/Users/bpauw/Code/Trinamic_TMCM6214_TMCL_IOC/tests/example.ipynb Cell 10\u001b[0m line \u001b[0;36m2\n\u001b[1;32m      <a href='vscode-notebook-cell:/Users/bpauw/Code/Trinamic_TMCM6214_TMCL_IOC/tests/example.ipynb#X32sZmlsZQ%3D%3D?line=0'>1</a>\u001b[0m \u001b[39mimport\u001b[39;00m \u001b[39mnumpy\u001b[39;00m \u001b[39mas\u001b[39;00m \u001b[39mnp\u001b[39;00m\n\u001b[0;32m----> <a href='vscode-notebook-cell:/Users/bpauw/Code/Trinamic_TMCM6214_TMCL_IOC/tests/example.ipynb#X32sZmlsZQ%3D%3D?line=1'>2</a>\u001b[0m np\u001b[39m.\u001b[39;49misclose(ureg(\u001b[39m'\u001b[39;49m\u001b[39m1.56 cm\u001b[39;49m\u001b[39m'\u001b[39;49m), ureg(\u001b[39m'\u001b[39;49m\u001b[39m1.561 cm\u001b[39;49m\u001b[39m'\u001b[39;49m))\n",
      "\u001b[0;31mTypeError\u001b[0m: no implementation found for 'numpy.isclose' on types that implement __array_function__: [<class 'pint.Quantity'>]"
     ]
    }
   ],
   "source": [
    "import numpy as np\n",
    "np.isclose(ureg('1.56 cm'), ureg('1.561 cm'))"
   ]
  },
  {
   "cell_type": "code",
   "execution_count": 10,
   "metadata": {},
   "outputs": [
    {
     "ename": "TypeError",
     "evalue": "unsupported operand type(s) for /: 'int' and 'str'",
     "output_type": "error",
     "traceback": [
      "\u001b[0;31m---------------------------------------------------------------------------\u001b[0m",
      "\u001b[0;31mTypeError\u001b[0m                                 Traceback (most recent call last)",
      "\u001b[1;32m/Users/bpauw/Code/Trinamic_TMCM6214_TMCL_IOC/tests/example.ipynb Cell 10\u001b[0m line \u001b[0;36m1\n\u001b[0;32m----> <a href='vscode-notebook-cell:/Users/bpauw/Code/Trinamic_TMCM6214_TMCL_IOC/tests/example.ipynb#X31sZmlsZQ%3D%3D?line=0'>1</a>\u001b[0m (ureg\u001b[39m.\u001b[39;49mUnit(\u001b[39m'\u001b[39;49m\u001b[39mcm\u001b[39;49m\u001b[39m'\u001b[39;49m)\u001b[39m/\u001b[39;49m\u001b[39m'\u001b[39;49m\u001b[39ms\u001b[39;49m\u001b[39m'\u001b[39;49m)\u001b[39m.\u001b[39mdimensionality\n",
      "File \u001b[0;32m~/Code/Trinamic_TMCM6214_TMCL_IOC/.venv/lib/python3.11/site-packages/pint/facets/plain/unit.py:159\u001b[0m, in \u001b[0;36mPlainUnit.__truediv__\u001b[0;34m(self, other)\u001b[0m\n\u001b[1;32m    156\u001b[0m         qself \u001b[39m=\u001b[39m \u001b[39m1\u001b[39m \u001b[39m*\u001b[39m \u001b[39mself\u001b[39m\n\u001b[1;32m    157\u001b[0m         \u001b[39mreturn\u001b[39;00m qself \u001b[39m/\u001b[39m other\n\u001b[0;32m--> 159\u001b[0m \u001b[39mreturn\u001b[39;00m \u001b[39mself\u001b[39m\u001b[39m.\u001b[39m_REGISTRY\u001b[39m.\u001b[39mQuantity(\u001b[39m1\u001b[39;49m \u001b[39m/\u001b[39;49m other, \u001b[39mself\u001b[39m\u001b[39m.\u001b[39m_units)\n",
      "\u001b[0;31mTypeError\u001b[0m: unsupported operand type(s) for /: 'int' and 'str'"
     ]
    }
   ],
   "source": [
    "(ureg.Unit('cm')/'s').dimensionality\n"
   ]
  },
  {
   "cell_type": "code",
   "execution_count": 9,
   "metadata": {},
   "outputs": [],
   "source": [
    "bc0.home_axis(0)"
   ]
  },
  {
   "cell_type": "code",
   "execution_count": 10,
   "metadata": {},
   "outputs": [],
   "source": [
    "bc0.await_move_completion(0)"
   ]
  },
  {
   "cell_type": "code",
   "execution_count": 11,
   "metadata": {},
   "outputs": [
    {
     "data": {
      "text/plain": [
       "False"
      ]
     },
     "execution_count": 11,
     "metadata": {},
     "output_type": "execute_result"
    }
   ],
   "source": [
    "bc0.update_axis_parameters(0)\n",
    "bc0.boardpar.axes_parameters[0].is_moving_RBV"
   ]
  },
  {
   "cell_type": "code",
   "execution_count": 44,
   "metadata": {},
   "outputs": [],
   "source": [
    "bc0.move_axis(0, 400000)"
   ]
  },
  {
   "cell_type": "code",
   "execution_count": 13,
   "metadata": {},
   "outputs": [],
   "source": [
    "bc0.update_axis_parameters(0)"
   ]
  },
  {
   "cell_type": "code",
   "execution_count": 4,
   "metadata": {},
   "outputs": [],
   "source": [
    "mc0 = MotionControl(board_control=bc0)"
   ]
  },
  {
   "cell_type": "code",
   "execution_count": 5,
   "metadata": {},
   "outputs": [],
   "source": [
    "mc0.home_await_and_set_limits(0)"
   ]
  },
  {
   "cell_type": "code",
   "execution_count": 6,
   "metadata": {},
   "outputs": [
    {
     "data": {
      "text/html": [
       "108.8765 millimeter"
      ],
      "text/latex": [
       "$108.8765\\ \\mathrm{millimeter}$"
      ],
      "text/plain": [
       "108.8765 <Unit('millimeter')>"
      ]
     },
     "execution_count": 6,
     "metadata": {},
     "output_type": "execute_result"
    }
   ],
   "source": [
    "bc0.boardpar.axes_parameters[0].stage_motion_limit_RBV"
   ]
  },
  {
   "cell_type": "code",
   "execution_count": 10,
   "metadata": {},
   "outputs": [],
   "source": [
    "mc0.move_to_coordinate_with_backlash(0, '0 mm')"
   ]
  },
  {
   "cell_type": "code",
   "execution_count": 8,
   "metadata": {},
   "outputs": [
    {
     "data": {
      "text/html": [
       "-50.0 millimeter"
      ],
      "text/latex": [
       "$-50.0\\ \\mathrm{millimeter}$"
      ],
      "text/plain": [
       "-50.0 <Unit('millimeter')>"
      ]
     },
     "execution_count": 8,
     "metadata": {},
     "output_type": "execute_result"
    }
   ],
   "source": [
    "bc0.update_axis_parameters(0)\n",
    "bc0.boardpar.axes_parameters[0].is_moving_RBV\n",
    "bc0.boardpar.axes_parameters[0].actual_coordinate_RBV"
   ]
  },
  {
   "cell_type": "code",
   "execution_count": 46,
   "metadata": {},
   "outputs": [
    {
     "data": {
      "text/html": [
       "66.66666666666667 millimeter"
      ],
      "text/latex": [
       "$66.66666666666667\\ \\mathrm{millimeter}$"
      ],
      "text/plain": [
       "66.66666666666667 <Unit('millimeter')>"
      ]
     },
     "execution_count": 46,
     "metadata": {},
     "output_type": "execute_result"
    }
   ],
   "source": []
  },
  {
   "cell_type": "code",
   "execution_count": null,
   "metadata": {},
   "outputs": [],
   "source": []
  }
 ],
 "metadata": {
  "kernelspec": {
   "display_name": "Python 3",
   "language": "python",
   "name": "python3"
  },
  "language_info": {
   "codemirror_mode": {
    "name": "ipython",
    "version": 3
   },
   "file_extension": ".py",
   "mimetype": "text/x-python",
   "name": "python",
   "nbconvert_exporter": "python",
   "pygments_lexer": "ipython3",
   "version": "3.11.6"
  }
 },
 "nbformat": 4,
 "nbformat_minor": 2
}
